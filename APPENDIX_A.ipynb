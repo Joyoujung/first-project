{
  "nbformat": 4,
  "nbformat_minor": 0,
  "metadata": {
    "colab": {
      "name": "APPENDIX_A.ipynb",
      "provenance": [],
      "authorship_tag": "ABX9TyNwDDBf0Wgrf69SlcNknN3w",
      "include_colab_link": true
    },
    "kernelspec": {
      "name": "python3",
      "display_name": "Python 3"
    },
    "language_info": {
      "name": "python"
    }
  },
  "cells": [
    {
      "cell_type": "markdown",
      "metadata": {
        "id": "view-in-github",
        "colab_type": "text"
      },
      "source": [
        "<a href=\"https://colab.research.google.com/github/Joyoujung/first-project/blob/main/APPENDIX_A.ipynb\" target=\"_parent\"><img src=\"https://colab.research.google.com/assets/colab-badge.svg\" alt=\"Open In Colab\"/></a>"
      ]
    },
    {
      "cell_type": "code",
      "metadata": {
        "colab": {
          "base_uri": "https://localhost:8080/"
        },
        "id": "P6v_2vrk_uOP",
        "outputId": "31c259f3-1f37-4191-f48d-1ba92fbe02e3"
      },
      "source": [
        "# 양의 정수\n",
        "a=1000\n",
        "print(a)\n",
        "\n",
        "# 음의 정수\n",
        "a=-7\n",
        "print(a)\n",
        "\n",
        "# 0\n",
        "a=0\n",
        "print(a)"
      ],
      "execution_count": 5,
      "outputs": [
        {
          "output_type": "stream",
          "name": "stdout",
          "text": [
            "1000\n",
            "-7\n",
            "0\n"
          ]
        }
      ]
    },
    {
      "cell_type": "code",
      "metadata": {
        "colab": {
          "base_uri": "https://localhost:8080/"
        },
        "id": "Y_z_KuAxARK3",
        "outputId": "f58d0fc7-0294-4fb8-a786-fca4cb239c0e"
      },
      "source": [
        "# 양의 실수\n",
        "a=157.93\n",
        "print(a)\n",
        "\n",
        "# 음의 실수\n",
        "a=-1837.2\n",
        "print(a)\n",
        "\n",
        "# 소수부가 0일 때 0을 생략\n",
        "a=5.\n",
        "print(a)\n",
        "\n",
        "# 정수부가 0일 때 0을 생략\n",
        "a=-.7\n",
        "print(a)"
      ],
      "execution_count": 12,
      "outputs": [
        {
          "output_type": "stream",
          "name": "stdout",
          "text": [
            "157.93\n",
            "-1837.2\n",
            "5.0\n",
            "-0.7\n"
          ]
        }
      ]
    },
    {
      "cell_type": "code",
      "metadata": {
        "colab": {
          "base_uri": "https://localhost:8080/"
        },
        "id": "hAgi_pK5B6XA",
        "outputId": "dc229f6b-ba0b-4fbd-ca05-44b0ee363bd5"
      },
      "source": [
        "# 10억의 지수 표현 방식\n",
        "a=1e9\n",
        "print(a)\n",
        "\n",
        "# 752.5\n",
        "a=75.25e1\n",
        "print(a)\n",
        "\n",
        "# 3.954\n",
        "a=3954e-3\n",
        "print(a)"
      ],
      "execution_count": 9,
      "outputs": [
        {
          "output_type": "stream",
          "name": "stdout",
          "text": [
            "1000000000.0\n",
            "752.5\n",
            "3.954\n"
          ]
        }
      ]
    },
    {
      "cell_type": "code",
      "metadata": {
        "colab": {
          "base_uri": "https://localhost:8080/"
        },
        "id": "r84UUqB7VokC",
        "outputId": "1787f5af-3e9e-4306-9d22-30fc60345b26"
      },
      "source": [
        "a=0.3+0.6\n",
        "print(a)\n",
        "\n",
        "if a==0.9:\n",
        "  print(True)\n",
        "else:\n",
        "  print(False)"
      ],
      "execution_count": 2,
      "outputs": [
        {
          "output_type": "stream",
          "name": "stdout",
          "text": [
            "0.8999999999999999\n",
            "False\n"
          ]
        }
      ]
    },
    {
      "cell_type": "code",
      "metadata": {
        "colab": {
          "base_uri": "https://localhost:8080/"
        },
        "id": "jj5A75GwWjTv",
        "outputId": "8fd27768-697a-42c6-a46e-a2b3d1e819d2"
      },
      "source": [
        "a=0.3+0.6\n",
        "print(round(a,4))\n",
        "\n",
        "if round(a,4)==0.9:\n",
        "  print(True)\n",
        "else:\n",
        "  print(False)"
      ],
      "execution_count": 4,
      "outputs": [
        {
          "output_type": "stream",
          "name": "stdout",
          "text": [
            "0.9\n",
            "True\n"
          ]
        }
      ]
    },
    {
      "cell_type": "code",
      "metadata": {
        "colab": {
          "base_uri": "https://localhost:8080/"
        },
        "id": "klGqbKtvXDUl",
        "outputId": "43b57954-8a3b-4695-ae91-070df45d3b81"
      },
      "source": [
        "a=7\n",
        "b=3\n",
        "\n",
        "# 나누기\n",
        "print(a/b)\n",
        "\n",
        "# 나머지\n",
        "print(a%b)\n",
        "\n",
        "# 몫\n",
        "print(a//b)"
      ],
      "execution_count": 6,
      "outputs": [
        {
          "output_type": "stream",
          "name": "stdout",
          "text": [
            "2.3333333333333335\n",
            "1\n",
            "2\n"
          ]
        }
      ]
    },
    {
      "cell_type": "code",
      "metadata": {
        "colab": {
          "base_uri": "https://localhost:8080/"
        },
        "id": "gxXxfbKFXYxg",
        "outputId": "ec6f3bff-7f11-4fe6-eeb4-a63a002122f3"
      },
      "source": [
        "a=5\n",
        "b=3\n",
        "\n",
        "print(a**b)"
      ],
      "execution_count": 7,
      "outputs": [
        {
          "output_type": "stream",
          "name": "stdout",
          "text": [
            "125\n"
          ]
        }
      ]
    },
    {
      "cell_type": "code",
      "metadata": {
        "colab": {
          "base_uri": "https://localhost:8080/"
        },
        "id": "hvylZ8pvYFbd",
        "outputId": "281df67d-1d5f-4909-b7c3-d74c44a22f77"
      },
      "source": [
        "a=[1,2,3,4,5,6,7,8,9]\n",
        "print(a)\n",
        "\n",
        "# 인덱스 4, 즉 다섯 번재 원소에 접근\n",
        "print(a[4])\n",
        "\n",
        "# 빈 리스트 선언 방법 1)\n",
        "a=list()\n",
        "print(a)\n",
        "\n",
        "# 빈 리스트 선언 방법 2)\n",
        "a=[]\n",
        "print(a)"
      ],
      "execution_count": 8,
      "outputs": [
        {
          "output_type": "stream",
          "name": "stdout",
          "text": [
            "[1, 2, 3, 4, 5, 6, 7, 8, 9]\n",
            "5\n",
            "[]\n",
            "[]\n"
          ]
        }
      ]
    },
    {
      "cell_type": "code",
      "metadata": {
        "colab": {
          "base_uri": "https://localhost:8080/"
        },
        "id": "6T_An6raYz5C",
        "outputId": "e1c9f478-8832-4982-a4d6-c7306ebbdd82"
      },
      "source": [
        "# 크기가 N이고, 모든 값이 0인 1차원 리스트\n",
        "n=10\n",
        "a=[0]*n\n",
        "print(a)"
      ],
      "execution_count": 13,
      "outputs": [
        {
          "output_type": "stream",
          "name": "stdout",
          "text": [
            "[0, 0, 0, 0, 0, 0, 0, 0, 0, 0]\n"
          ]
        }
      ]
    },
    {
      "cell_type": "code",
      "metadata": {
        "colab": {
          "base_uri": "https://localhost:8080/"
        },
        "id": "EWNuh5bKZFO_",
        "outputId": "53ed515f-17e8-455d-e0b2-858f98b76608"
      },
      "source": [
        "a=[1,2,3,4,5,6,7,8,9]\n",
        "# 뒤에서 첫 번째 원소 출력\n",
        "print(a[-1])\n",
        "\n",
        "# 뒤에서 세 번째 원소 출력\n",
        "print(a[-3])\n",
        "\n",
        "# 네 번째 원소 값 변경\n",
        "a[3]=7\n",
        "print(a)"
      ],
      "execution_count": 14,
      "outputs": [
        {
          "output_type": "stream",
          "name": "stdout",
          "text": [
            "9\n",
            "7\n",
            "[1, 2, 3, 7, 5, 6, 7, 8, 9]\n"
          ]
        }
      ]
    },
    {
      "cell_type": "code",
      "metadata": {
        "colab": {
          "base_uri": "https://localhost:8080/"
        },
        "id": "izeILinyZixB",
        "outputId": "221cae05-f3b3-43df-e161-57ec22632114"
      },
      "source": [
        "a=[1,2,3,4,5,6,7,8,9]\n",
        "\n",
        "# 두 번째 원소부터 네 번째 원소까지\n",
        "print(a[1:4])"
      ],
      "execution_count": 15,
      "outputs": [
        {
          "output_type": "stream",
          "name": "stdout",
          "text": [
            "[2, 3, 4]\n"
          ]
        }
      ]
    },
    {
      "cell_type": "code",
      "metadata": {
        "colab": {
          "base_uri": "https://localhost:8080/"
        },
        "id": "G7ouTRl9Z36C",
        "outputId": "a432b6c6-d066-4af2-c19f-f35c69a3a3df"
      },
      "source": [
        "# 0부터 19까지의 수 중에서 홀수만 포함하는 리스트\n",
        "array=[i for i in range(20) if i%2==1]\n",
        "\n",
        "print(array)"
      ],
      "execution_count": 16,
      "outputs": [
        {
          "output_type": "stream",
          "name": "stdout",
          "text": [
            "[1, 3, 5, 7, 9, 11, 13, 15, 17, 19]\n"
          ]
        }
      ]
    },
    {
      "cell_type": "code",
      "metadata": {
        "colab": {
          "base_uri": "https://localhost:8080/"
        },
        "id": "xWHwiKzVaLwX",
        "outputId": "b0b69e1b-5dfb-435e-8560-6478b2b280a1"
      },
      "source": [
        "array=[]\n",
        "for i in range(20):\n",
        "  if i%2==1:\n",
        "    array.append(i)\n",
        "\n",
        "print(array)"
      ],
      "execution_count": 17,
      "outputs": [
        {
          "output_type": "stream",
          "name": "stdout",
          "text": [
            "[1, 3, 5, 7, 9, 11, 13, 15, 17, 19]\n"
          ]
        }
      ]
    },
    {
      "cell_type": "code",
      "metadata": {
        "colab": {
          "base_uri": "https://localhost:8080/"
        },
        "id": "aKnqKqWiaZoA",
        "outputId": "c439549b-8968-4566-af0b-33523325a51f"
      },
      "source": [
        "# 1부터 9까지의 수의 제곱 값을 포함하는 리스트\n",
        "array=[i*i for i in range(1,10)]\n",
        "\n",
        "print(array)"
      ],
      "execution_count": 18,
      "outputs": [
        {
          "output_type": "stream",
          "name": "stdout",
          "text": [
            "[1, 4, 9, 16, 25, 36, 49, 64, 81]\n"
          ]
        }
      ]
    },
    {
      "cell_type": "code",
      "metadata": {
        "colab": {
          "base_uri": "https://localhost:8080/"
        },
        "id": "bA6EdmZIaqnD",
        "outputId": "0f7c32bd-04d6-4c89-9575-fded0f81be31"
      },
      "source": [
        "# N X M 크기의 2차원 리스트 초기화\n",
        "n=3\n",
        "m=3\n",
        "array=[[0]*m for _ in range(n)]\n",
        "print(array)"
      ],
      "execution_count": 20,
      "outputs": [
        {
          "output_type": "stream",
          "name": "stdout",
          "text": [
            "[[0, 0, 0], [0, 0, 0], [0, 0, 0]]\n"
          ]
        }
      ]
    },
    {
      "cell_type": "code",
      "metadata": {
        "colab": {
          "base_uri": "https://localhost:8080/"
        },
        "id": "SiLUdVHMbNmp",
        "outputId": "414687f2-8ada-4f10-b568-31340e25fcd3"
      },
      "source": [
        "# N X M 크기의 2차원 리스트 초기화(잘못된 방법)\n",
        "n=3\n",
        "m=4\n",
        "array=[[0]*m]*n\n",
        "print(array)\n",
        "\n",
        "array[1][1]=5\n",
        "print(array)"
      ],
      "execution_count": 21,
      "outputs": [
        {
          "output_type": "stream",
          "name": "stdout",
          "text": [
            "[[0, 0, 0, 0], [0, 0, 0, 0], [0, 0, 0, 0]]\n",
            "[[0, 5, 0, 0], [0, 5, 0, 0], [0, 5, 0, 0]]\n"
          ]
        }
      ]
    },
    {
      "cell_type": "code",
      "metadata": {
        "colab": {
          "base_uri": "https://localhost:8080/"
        },
        "id": "Fh6P7HBMcKUV",
        "outputId": "f21dbff9-7df3-4e05-e489-15b94626a676"
      },
      "source": [
        "a=[1,4,3]\n",
        "print(\"기본 리스트: \", a)\n",
        "\n",
        "# 리스트에 원소 삽입\n",
        "a.append(2)\n",
        "print(\"삽입: \", a)\n",
        "\n",
        "# 오름차순 정렬\n",
        "a.sort()\n",
        "print(\"오름차순 정렬: \", a)\n",
        "\n",
        "# 내림차순 정렬\n",
        "a.sort(reverse=True)\n",
        "print(\"내림차순 정렬: \", a)\n",
        "\n",
        "# 리스트 원소 뒤집기\n",
        "a.reverse()\n",
        "print(\"원소 뒤집기: \", a)\n",
        "\n",
        "# 특정 인덱스에 데이터 추가\n",
        "a.insert(2,3)\n",
        "print(\"인덱스 2에 3 추가: \", a)\n",
        "\n",
        "# 특정 값인 데이터 개수 세기\n",
        "print(\"값이 3인 데이터 개수: \", a.count(3))\n",
        "\n",
        "# 특정 값 데이터 삭제\n",
        "a.remove(1)\n",
        "print(\"값이 1인 데이터 삭제: \", a)"
      ],
      "execution_count": 22,
      "outputs": [
        {
          "output_type": "stream",
          "name": "stdout",
          "text": [
            "기본 리스트:  [1, 4, 3]\n",
            "삽입:  [1, 4, 3, 2]\n",
            "오름차순 정렬:  [1, 2, 3, 4]\n",
            "내림차순 정렬:  [4, 3, 2, 1]\n",
            "원소 뒤집기:  [1, 2, 3, 4]\n",
            "인덱스 2에 3 추가:  [1, 2, 3, 3, 4]\n",
            "값이 3인 데이터 개수:  2\n",
            "값이 1인 데이터 삭제:  [2, 3, 3, 4]\n"
          ]
        }
      ]
    },
    {
      "cell_type": "code",
      "metadata": {
        "colab": {
          "base_uri": "https://localhost:8080/"
        },
        "id": "6cdng4JtdXsf",
        "outputId": "17db6907-6df4-4aea-d770-be8b1dbcf297"
      },
      "source": [
        "a=[1,2,3,4,5,5,5]\n",
        "remove_set={3,5}\n",
        "\n",
        "# remove_set에 포함되지 않은 값만을 저장\n",
        "result=[i for i in a if i not in remove_set]\n",
        "print(result)"
      ],
      "execution_count": 23,
      "outputs": [
        {
          "output_type": "stream",
          "name": "stdout",
          "text": [
            "[1, 2, 4]\n"
          ]
        }
      ]
    },
    {
      "cell_type": "code",
      "metadata": {
        "colab": {
          "base_uri": "https://localhost:8080/"
        },
        "id": "yArO0IJrd_xe",
        "outputId": "689c14c1-8a88-446a-e0e7-03e4f18d6820"
      },
      "source": [
        "data='Hello World'\n",
        "print(data)\n",
        "\n",
        "data=\"Don't you know \\\"Python\\\"?\"\n",
        "print(data)"
      ],
      "execution_count": 27,
      "outputs": [
        {
          "output_type": "stream",
          "name": "stdout",
          "text": [
            "Hello World\n",
            "Don't you know \"Python\"?\n"
          ]
        }
      ]
    },
    {
      "cell_type": "code",
      "metadata": {
        "colab": {
          "base_uri": "https://localhost:8080/"
        },
        "id": "tUW8TWTde6Nq",
        "outputId": "d9e58028-cd18-4c71-f979-b7207f7a1674"
      },
      "source": [
        "a=\"String\"\n",
        "\n",
        "print(a*3)"
      ],
      "execution_count": 28,
      "outputs": [
        {
          "output_type": "stream",
          "name": "stdout",
          "text": [
            "StringStringString\n"
          ]
        }
      ]
    },
    {
      "cell_type": "code",
      "metadata": {
        "colab": {
          "base_uri": "https://localhost:8080/"
        },
        "id": "U3oNbKCIe_N_",
        "outputId": "6aeb3bf7-12e4-496f-b47f-20ac4ae93253"
      },
      "source": [
        "a=\"ABCDEF\"\n",
        "\n",
        "print(a[2:4])"
      ],
      "execution_count": 29,
      "outputs": [
        {
          "output_type": "stream",
          "name": "stdout",
          "text": [
            "CD\n"
          ]
        }
      ]
    },
    {
      "cell_type": "code",
      "metadata": {
        "colab": {
          "base_uri": "https://localhost:8080/",
          "height": 222
        },
        "id": "1OJ1IMWGfMrV",
        "outputId": "a283228a-d737-4a3a-e856-5b61ba8a4bbb"
      },
      "source": [
        "# 튜플은 값 변경 X\n",
        "a=(1,2,3,4)\n",
        "print(a)\n",
        "\n",
        "a[2]=7"
      ],
      "execution_count": 31,
      "outputs": [
        {
          "output_type": "stream",
          "name": "stdout",
          "text": [
            "(1, 2, 3, 4)\n"
          ]
        },
        {
          "output_type": "error",
          "ename": "TypeError",
          "evalue": "ignored",
          "traceback": [
            "\u001b[0;31m---------------------------------------------------------------------------\u001b[0m",
            "\u001b[0;31mTypeError\u001b[0m                                 Traceback (most recent call last)",
            "\u001b[0;32m<ipython-input-31-7cd3c0d09816>\u001b[0m in \u001b[0;36m<module>\u001b[0;34m()\u001b[0m\n\u001b[1;32m      3\u001b[0m \u001b[0mprint\u001b[0m\u001b[0;34m(\u001b[0m\u001b[0ma\u001b[0m\u001b[0;34m)\u001b[0m\u001b[0;34m\u001b[0m\u001b[0;34m\u001b[0m\u001b[0m\n\u001b[1;32m      4\u001b[0m \u001b[0;34m\u001b[0m\u001b[0m\n\u001b[0;32m----> 5\u001b[0;31m \u001b[0ma\u001b[0m\u001b[0;34m[\u001b[0m\u001b[0;36m2\u001b[0m\u001b[0;34m]\u001b[0m\u001b[0;34m=\u001b[0m\u001b[0;36m7\u001b[0m\u001b[0;34m\u001b[0m\u001b[0;34m\u001b[0m\u001b[0m\n\u001b[0m",
            "\u001b[0;31mTypeError\u001b[0m: 'tuple' object does not support item assignment"
          ]
        }
      ]
    },
    {
      "cell_type": "code",
      "metadata": {
        "colab": {
          "base_uri": "https://localhost:8080/"
        },
        "id": "ybGLCjquf8-s",
        "outputId": "8166240e-eba0-484c-db0f-50831b31b902"
      },
      "source": [
        "data=dict()\n",
        "data['사과']='Apple'\n",
        "data['바나나']='Banana'\n",
        "data['코코넛']='Coconut'\n",
        "\n",
        "print(data)"
      ],
      "execution_count": 32,
      "outputs": [
        {
          "output_type": "stream",
          "name": "stdout",
          "text": [
            "{'사과': 'Apple', '바나나': 'Banana', '코코넛': 'Coconut'}\n"
          ]
        }
      ]
    },
    {
      "cell_type": "code",
      "metadata": {
        "colab": {
          "base_uri": "https://localhost:8080/"
        },
        "id": "CHE1stjJhSUP",
        "outputId": "09bdd527-a844-459c-bc02-b448f831f2c2"
      },
      "source": [
        "data=dict()\n",
        "data['사과']='Apple'\n",
        "data['바나나']='Banana'\n",
        "data['코코넛']='Coconut'\n",
        "\n",
        "if '사과' in data:\n",
        "  print(\"'사과'를 키로 가지는 데이터가 존재합니다.\")"
      ],
      "execution_count": 33,
      "outputs": [
        {
          "output_type": "stream",
          "name": "stdout",
          "text": [
            "'사과'를 키로 가지는 데이터가 존재합니다.\n"
          ]
        }
      ]
    },
    {
      "cell_type": "code",
      "metadata": {
        "colab": {
          "base_uri": "https://localhost:8080/"
        },
        "id": "rD5x4zich-ll",
        "outputId": "61247f90-3d72-446b-92c7-2742466235c6"
      },
      "source": [
        "data=dict()\n",
        "data['사과']='Apple'\n",
        "data['바나나']='Banana'\n",
        "data['코코넛']='Coconut'\n",
        "\n",
        "# 키 데이터만 담은 리스트\n",
        "key_list=data.keys()\n",
        "# 값 데이터만 담은 리스트\n",
        "value_list=data.values()\n",
        "print(key_list)\n",
        "print(value_list)\n",
        "\n",
        "# 각 키에 따른 값을 하나씩 출력\n",
        "for key in key_list:\n",
        "  print(data[key])"
      ],
      "execution_count": 34,
      "outputs": [
        {
          "output_type": "stream",
          "name": "stdout",
          "text": [
            "dict_keys(['사과', '바나나', '코코넛'])\n",
            "dict_values(['Apple', 'Banana', 'Coconut'])\n",
            "Apple\n",
            "Banana\n",
            "Coconut\n"
          ]
        }
      ]
    },
    {
      "cell_type": "code",
      "metadata": {
        "colab": {
          "base_uri": "https://localhost:8080/"
        },
        "id": "sV2G96LYi6Pd",
        "outputId": "e0045a43-3557-4304-c9b4-35228a855e2e"
      },
      "source": [
        "# 집합 자료형 초기화 방법 1\n",
        "data=set([1,1,2,3,4,4,5])\n",
        "print(data)\n",
        "\n",
        "# 집합 자료형 초기화 방법 2\n",
        "data={1,1,2,3,4,4,5}\n",
        "print(data)"
      ],
      "execution_count": 35,
      "outputs": [
        {
          "output_type": "stream",
          "name": "stdout",
          "text": [
            "{1, 2, 3, 4, 5}\n",
            "{1, 2, 3, 4, 5}\n"
          ]
        }
      ]
    },
    {
      "cell_type": "code",
      "metadata": {
        "colab": {
          "base_uri": "https://localhost:8080/"
        },
        "id": "-N-tRHjwjquO",
        "outputId": "ceac68c8-244c-4277-fc37-4833efb3fdd3"
      },
      "source": [
        "a=set([1,2,3,4,5])\n",
        "b=set([3,4,5,6,7])\n",
        "\n",
        "print(a|b) # 합집합\n",
        "print(a&b) # 교집합\n",
        "print(a-b) # 차집합"
      ],
      "execution_count": 36,
      "outputs": [
        {
          "output_type": "stream",
          "name": "stdout",
          "text": [
            "{1, 2, 3, 4, 5, 6, 7}\n",
            "{3, 4, 5}\n",
            "{1, 2}\n"
          ]
        }
      ]
    },
    {
      "cell_type": "code",
      "metadata": {
        "colab": {
          "base_uri": "https://localhost:8080/"
        },
        "id": "0VVlZA1Fwg11",
        "outputId": "cf14bc8f-b028-4872-96ed-06375d38d776"
      },
      "source": [
        "data=set([1,2,3])\n",
        "print(data)\n",
        "\n",
        "# 새로운 원소 추가\n",
        "data.add(4)\n",
        "print(data)\n",
        "\n",
        "# 새로운 원소 여러 개 추가\n",
        "data.update([5,6])\n",
        "print(data)\n",
        "\n",
        "# 특정한 값을 갖는 원소 삭제\n",
        "data.remove(3)\n",
        "print(data)"
      ],
      "execution_count": 37,
      "outputs": [
        {
          "output_type": "stream",
          "name": "stdout",
          "text": [
            "{1, 2, 3}\n",
            "{1, 2, 3, 4}\n",
            "{1, 2, 3, 4, 5, 6}\n",
            "{1, 2, 4, 5, 6}\n"
          ]
        }
      ]
    },
    {
      "cell_type": "code",
      "metadata": {
        "colab": {
          "base_uri": "https://localhost:8080/"
        },
        "id": "GZgzZpsK20xN",
        "outputId": "4b17a5ff-c788-46cb-cbdd-d441de783b0d"
      },
      "source": [
        "x=15\n",
        "\n",
        "if x>=10:\n",
        "  print(x)"
      ],
      "execution_count": 38,
      "outputs": [
        {
          "output_type": "stream",
          "name": "stdout",
          "text": [
            "15\n"
          ]
        }
      ]
    },
    {
      "cell_type": "code",
      "metadata": {
        "colab": {
          "base_uri": "https://localhost:8080/"
        },
        "id": "YVtQTcZO3Pf3",
        "outputId": "45e4f32d-1d73-4bcb-9a38-3b27e1830187"
      },
      "source": [
        "score=85\n",
        "\n",
        "if score>=90:\n",
        "  print(\"학점: A\")\n",
        "elif score>=80:\n",
        "  print(\"학점: B\")\n",
        "elif score>=70:\n",
        "  print(\"학점: C\")\n",
        "else:\n",
        "  print(\"학점: F\")"
      ],
      "execution_count": 40,
      "outputs": [
        {
          "output_type": "stream",
          "name": "stdout",
          "text": [
            "학점: B\n"
          ]
        }
      ]
    },
    {
      "cell_type": "code",
      "metadata": {
        "colab": {
          "base_uri": "https://localhost:8080/"
        },
        "id": "2vxP5cAg3kmZ",
        "outputId": "20004642-434a-4554-f4fa-0ae61562090b"
      },
      "source": [
        "score=85\n",
        "\n",
        "if score>=70:\n",
        "  print('성적이 70점 이상입니다.')\n",
        "  if score>=90:\n",
        "    print('우수한 성적입니다.')\n",
        "\n",
        "else:\n",
        "  print('성적이 70점 미만입니다.')\n",
        "  print('조금 더 분발하세요.')\n",
        "\n",
        "print('프로그램을 종료합니다.')"
      ],
      "execution_count": 41,
      "outputs": [
        {
          "output_type": "stream",
          "name": "stdout",
          "text": [
            "성적이 70점 이상입니다.\n",
            "프로그램을 종료합니다.\n"
          ]
        }
      ]
    },
    {
      "cell_type": "code",
      "metadata": {
        "colab": {
          "base_uri": "https://localhost:8080/"
        },
        "id": "UDVmCInB4zkC",
        "outputId": "dcf87b59-8c83-4ec8-fdfc-2ac54e1ab4d7"
      },
      "source": [
        "score=85\n",
        "\n",
        "if score>=80:\n",
        "  pass #나중에 작성할 소스코드\n",
        "else:\n",
        "  print('성적이 80점 미만입니다.')\n",
        "\n",
        "print('프로그램을 종료합니다.')"
      ],
      "execution_count": 42,
      "outputs": [
        {
          "output_type": "stream",
          "name": "stdout",
          "text": [
            "프로그램을 종료합니다.\n"
          ]
        }
      ]
    },
    {
      "cell_type": "code",
      "metadata": {
        "colab": {
          "base_uri": "https://localhost:8080/"
        },
        "id": "srssaFtU5Bhx",
        "outputId": "b0580b77-d2c7-42f5-83bb-8e99863f3fb7"
      },
      "source": [
        "score=85\n",
        "\n",
        "if score>=80: result=\"Success\"\n",
        "else: result=\"Fail\"\n",
        "\n",
        "print(result)"
      ],
      "execution_count": 46,
      "outputs": [
        {
          "output_type": "stream",
          "name": "stdout",
          "text": [
            "Success\n"
          ]
        }
      ]
    },
    {
      "cell_type": "code",
      "metadata": {
        "colab": {
          "base_uri": "https://localhost:8080/"
        },
        "id": "zgVcMr6N5cH3",
        "outputId": "d3b96473-6534-4557-9428-ab0c3293273f"
      },
      "source": [
        "score=85\n",
        "result=\"Success\" if score>=80 else \"Fail\"\n",
        "\n",
        "print(result)"
      ],
      "execution_count": 47,
      "outputs": [
        {
          "output_type": "stream",
          "name": "stdout",
          "text": [
            "Success\n"
          ]
        }
      ]
    },
    {
      "cell_type": "code",
      "metadata": {
        "colab": {
          "base_uri": "https://localhost:8080/"
        },
        "id": "UAtUPC565on_",
        "outputId": "7c9a2781-c4a5-4a58-8555-344dd1190862"
      },
      "source": [
        "a=[1,2,3,4,5,5,5]\n",
        "remove_set={3,5}\n",
        "\n",
        "result=[]\n",
        "for i in a:\n",
        "  if i not in remove_set:\n",
        "    result.append(i)\n",
        "\n",
        "print(result)"
      ],
      "execution_count": 48,
      "outputs": [
        {
          "output_type": "stream",
          "name": "stdout",
          "text": [
            "[1, 2, 4]\n"
          ]
        }
      ]
    },
    {
      "cell_type": "code",
      "metadata": {
        "colab": {
          "base_uri": "https://localhost:8080/"
        },
        "id": "vTOrA7oA52yA",
        "outputId": "ac5318d5-940a-4886-c591-636124799d6c"
      },
      "source": [
        "a=[1,2,3,4,5,5,5]\n",
        "remove_set={3,5}\n",
        "\n",
        "result=[i for i in a if i not in remove_set]\n",
        "\n",
        "print(result)"
      ],
      "execution_count": 49,
      "outputs": [
        {
          "output_type": "stream",
          "name": "stdout",
          "text": [
            "[1, 2, 4]\n"
          ]
        }
      ]
    },
    {
      "cell_type": "code",
      "metadata": {
        "colab": {
          "base_uri": "https://localhost:8080/"
        },
        "id": "nQ4RnNK-6Z_w",
        "outputId": "21079428-b8e6-4eb1-a64c-ed18b8731cf1"
      },
      "source": [
        "i=1\n",
        "result=0\n",
        "\n",
        "# i가 9보다 작거나 같을 때 아래 코드를 반복적으로 실행\n",
        "while i<=9:\n",
        "  result+=i\n",
        "  i+=1\n",
        "\n",
        "print(result)"
      ],
      "execution_count": 50,
      "outputs": [
        {
          "output_type": "stream",
          "name": "stdout",
          "text": [
            "45\n"
          ]
        }
      ]
    },
    {
      "cell_type": "code",
      "metadata": {
        "colab": {
          "base_uri": "https://localhost:8080/"
        },
        "id": "uRO5ycps6oMR",
        "outputId": "b1547ce4-01c7-43f9-c6a0-21af5513f243"
      },
      "source": [
        "i=1\n",
        "result=0\n",
        "\n",
        "# i가 9보다 작거나 같을 때 아래 코드를 반복적으로 실행\n",
        "while i<=9:\n",
        "  if i%2==1:\n",
        "    result+=i\n",
        "  i+=1\n",
        "\n",
        "print(result)"
      ],
      "execution_count": 51,
      "outputs": [
        {
          "output_type": "stream",
          "name": "stdout",
          "text": [
            "25\n"
          ]
        }
      ]
    },
    {
      "cell_type": "code",
      "metadata": {
        "colab": {
          "base_uri": "https://localhost:8080/"
        },
        "id": "5qNqTFx97IKx",
        "outputId": "6e9f242b-fe25-4cec-8e61-22101a657d0e"
      },
      "source": [
        "result=0\n",
        "\n",
        "#i는 1부터 9까지의 모든 값을 순회\n",
        "for i in range(1,10):\n",
        "  result+=i\n",
        "\n",
        "print(result)"
      ],
      "execution_count": 52,
      "outputs": [
        {
          "output_type": "stream",
          "name": "stdout",
          "text": [
            "45\n"
          ]
        }
      ]
    },
    {
      "cell_type": "code",
      "metadata": {
        "colab": {
          "base_uri": "https://localhost:8080/"
        },
        "id": "5IPoWLOM7Wiu",
        "outputId": "9712e4e2-dd2e-4ad9-c9d7-292809152922"
      },
      "source": [
        "scores=[90,85,77,65,97]\n",
        "\n",
        "for i in range(5):\n",
        "  if scores[i]>=80:\n",
        "    print(i+1, \"번 학생은 합격입니다.\")"
      ],
      "execution_count": 53,
      "outputs": [
        {
          "output_type": "stream",
          "name": "stdout",
          "text": [
            "1 번 학생은 합격입니다.\n",
            "2 번 학생은 합격입니다.\n",
            "5 번 학생은 합격입니다.\n"
          ]
        }
      ]
    },
    {
      "cell_type": "code",
      "metadata": {
        "colab": {
          "base_uri": "https://localhost:8080/"
        },
        "id": "qgIpschV7pv-",
        "outputId": "443550fd-e6a2-4dac-e90a-714d1558e725"
      },
      "source": [
        "scores=[90,85,77,65,97]\n",
        "black_list={2,4}\n",
        "\n",
        "for i in range(5):\n",
        "  if i+1 in black_list:\n",
        "    continue\n",
        "  if scores[i]>=80:\n",
        "    print(i+1, \"번 학생은 합격입니다.\")"
      ],
      "execution_count": 54,
      "outputs": [
        {
          "output_type": "stream",
          "name": "stdout",
          "text": [
            "1 번 학생은 합격입니다.\n",
            "5 번 학생은 합격입니다.\n"
          ]
        }
      ]
    },
    {
      "cell_type": "code",
      "metadata": {
        "colab": {
          "base_uri": "https://localhost:8080/"
        },
        "id": "8FM-Jp0w8NbX",
        "outputId": "b450226c-9616-4d8d-e270-ea6e86e48010"
      },
      "source": [
        "for i in range(2,10):\n",
        "  for j in range(1,10):\n",
        "    print(i, \"X\", j, \"=\", i*j)\n",
        "  print()"
      ],
      "execution_count": 55,
      "outputs": [
        {
          "output_type": "stream",
          "name": "stdout",
          "text": [
            "2 X 1 = 2\n",
            "2 X 2 = 4\n",
            "2 X 3 = 6\n",
            "2 X 4 = 8\n",
            "2 X 5 = 10\n",
            "2 X 6 = 12\n",
            "2 X 7 = 14\n",
            "2 X 8 = 16\n",
            "2 X 9 = 18\n",
            "\n",
            "3 X 1 = 3\n",
            "3 X 2 = 6\n",
            "3 X 3 = 9\n",
            "3 X 4 = 12\n",
            "3 X 5 = 15\n",
            "3 X 6 = 18\n",
            "3 X 7 = 21\n",
            "3 X 8 = 24\n",
            "3 X 9 = 27\n",
            "\n",
            "4 X 1 = 4\n",
            "4 X 2 = 8\n",
            "4 X 3 = 12\n",
            "4 X 4 = 16\n",
            "4 X 5 = 20\n",
            "4 X 6 = 24\n",
            "4 X 7 = 28\n",
            "4 X 8 = 32\n",
            "4 X 9 = 36\n",
            "\n",
            "5 X 1 = 5\n",
            "5 X 2 = 10\n",
            "5 X 3 = 15\n",
            "5 X 4 = 20\n",
            "5 X 5 = 25\n",
            "5 X 6 = 30\n",
            "5 X 7 = 35\n",
            "5 X 8 = 40\n",
            "5 X 9 = 45\n",
            "\n",
            "6 X 1 = 6\n",
            "6 X 2 = 12\n",
            "6 X 3 = 18\n",
            "6 X 4 = 24\n",
            "6 X 5 = 30\n",
            "6 X 6 = 36\n",
            "6 X 7 = 42\n",
            "6 X 8 = 48\n",
            "6 X 9 = 54\n",
            "\n",
            "7 X 1 = 7\n",
            "7 X 2 = 14\n",
            "7 X 3 = 21\n",
            "7 X 4 = 28\n",
            "7 X 5 = 35\n",
            "7 X 6 = 42\n",
            "7 X 7 = 49\n",
            "7 X 8 = 56\n",
            "7 X 9 = 63\n",
            "\n",
            "8 X 1 = 8\n",
            "8 X 2 = 16\n",
            "8 X 3 = 24\n",
            "8 X 4 = 32\n",
            "8 X 5 = 40\n",
            "8 X 6 = 48\n",
            "8 X 7 = 56\n",
            "8 X 8 = 64\n",
            "8 X 9 = 72\n",
            "\n",
            "9 X 1 = 9\n",
            "9 X 2 = 18\n",
            "9 X 3 = 27\n",
            "9 X 4 = 36\n",
            "9 X 5 = 45\n",
            "9 X 6 = 54\n",
            "9 X 7 = 63\n",
            "9 X 8 = 72\n",
            "9 X 9 = 81\n",
            "\n"
          ]
        }
      ]
    },
    {
      "cell_type": "code",
      "metadata": {
        "colab": {
          "base_uri": "https://localhost:8080/"
        },
        "id": "C6FIL7658hnL",
        "outputId": "350ad4b4-06d7-4db0-8cfd-060f5fa037dd"
      },
      "source": [
        "def add(a,b):\n",
        "  return a+b\n",
        "\n",
        "print(add(3,7))"
      ],
      "execution_count": 56,
      "outputs": [
        {
          "output_type": "stream",
          "name": "stdout",
          "text": [
            "10\n"
          ]
        }
      ]
    },
    {
      "cell_type": "code",
      "metadata": {
        "colab": {
          "base_uri": "https://localhost:8080/"
        },
        "id": "V5qawjdK8_89",
        "outputId": "b8cd5708-68c7-433f-8023-62c566907694"
      },
      "source": [
        "def add(a,b):\n",
        "  print('함수의 결과:', a+b)\n",
        "\n",
        "add(3,7)"
      ],
      "execution_count": 57,
      "outputs": [
        {
          "output_type": "stream",
          "name": "stdout",
          "text": [
            "함수의 결과: 10\n"
          ]
        }
      ]
    },
    {
      "cell_type": "code",
      "metadata": {
        "colab": {
          "base_uri": "https://localhost:8080/"
        },
        "id": "QosGDWFT9MWj",
        "outputId": "1a091cfd-db26-4c85-f5cb-923a6b25369e"
      },
      "source": [
        "def add(a,b):\n",
        "  print('함수의 결과:', a+b)\n",
        "\n",
        "add(b=3, a=7)"
      ],
      "execution_count": 58,
      "outputs": [
        {
          "output_type": "stream",
          "name": "stdout",
          "text": [
            "함수의 결과: 10\n"
          ]
        }
      ]
    },
    {
      "cell_type": "code",
      "metadata": {
        "colab": {
          "base_uri": "https://localhost:8080/"
        },
        "id": "J3EDXKWT-vuW",
        "outputId": "4fd7fc16-a09f-4e45-cdbb-1a6f546fe680"
      },
      "source": [
        "a=0\n",
        "\n",
        "def func():\n",
        "  global a\n",
        "  a+=1\n",
        "\n",
        "for i in range(10):\n",
        "  func()\n",
        "\n",
        "print(a)"
      ],
      "execution_count": 60,
      "outputs": [
        {
          "output_type": "stream",
          "name": "stdout",
          "text": [
            "10\n"
          ]
        }
      ]
    },
    {
      "cell_type": "code",
      "metadata": {
        "colab": {
          "base_uri": "https://localhost:8080/"
        },
        "id": "VQzfIWPc_QH0",
        "outputId": "25d45157-8d2d-4cf4-dd67-271030c9f7c4"
      },
      "source": [
        "def add(a,b):\n",
        "  return a+b\n",
        "\n",
        "# 일반적인 add() 메서드 사용\n",
        "print(add(3,7))\n",
        "\n",
        "# 람다 표현식으로 구현한 add() 메서드\n",
        "print((lambda a,b:a+b)(3,7))"
      ],
      "execution_count": 62,
      "outputs": [
        {
          "output_type": "stream",
          "name": "stdout",
          "text": [
            "10\n",
            "10\n"
          ]
        }
      ]
    },
    {
      "cell_type": "code",
      "metadata": {
        "colab": {
          "base_uri": "https://localhost:8080/"
        },
        "id": "S5QZxqoIBdm7",
        "outputId": "3e9c4a0e-b8b4-44d7-f55a-48efa4eb5cca"
      },
      "source": [
        "# 데이터의 개수 입력\n",
        "n=int(input())\n",
        "# 각 데이터를 공백으로 구분하여 입력\n",
        "data=list(map(int, input().split()))\n",
        "\n",
        "data.sort(reverse=True)\n",
        "print(data)"
      ],
      "execution_count": 65,
      "outputs": [
        {
          "output_type": "stream",
          "name": "stdout",
          "text": [
            "5\n",
            "65 90 75 34 99\n",
            "[99, 90, 75, 65, 34]\n"
          ]
        }
      ]
    },
    {
      "cell_type": "code",
      "metadata": {
        "colab": {
          "base_uri": "https://localhost:8080/"
        },
        "id": "WWc08iUaB9Hs",
        "outputId": "2786c97b-2e64-43e1-9792-6a39f8afefd5"
      },
      "source": [
        "# n, m, k를 공백으로 구분하여 입력\n",
        "n,m,k=map(int, input().split())\n",
        "\n",
        "print(n,m,k)"
      ],
      "execution_count": 66,
      "outputs": [
        {
          "output_type": "stream",
          "name": "stdout",
          "text": [
            "3 5 7\n",
            "3 5 7\n"
          ]
        }
      ]
    },
    {
      "cell_type": "code",
      "metadata": {
        "colab": {
          "base_uri": "https://localhost:8080/"
        },
        "id": "Q58IuiwBCisF",
        "outputId": "606621ff-0630-4b65-c59f-36c6fde591c6"
      },
      "source": [
        "import sys\n",
        "\n",
        "# 문자열 입력받기\n",
        "data=sys.stdin.readline().rstrip()\n",
        "print(data)"
      ],
      "execution_count": 70,
      "outputs": [
        {
          "output_type": "stream",
          "name": "stdout",
          "text": [
            "\n"
          ]
        }
      ]
    },
    {
      "cell_type": "code",
      "metadata": {
        "colab": {
          "base_uri": "https://localhost:8080/"
        },
        "id": "tXxALUk2DaHX",
        "outputId": "689ec6e6-4ba4-47da-f0ad-cf6ba606bc36"
      },
      "source": [
        "# 출력할 변수들\n",
        "a=1\n",
        "b=2\n",
        "\n",
        "print(a,b)"
      ],
      "execution_count": 71,
      "outputs": [
        {
          "output_type": "stream",
          "name": "stdout",
          "text": [
            "1 2\n"
          ]
        }
      ]
    },
    {
      "cell_type": "code",
      "metadata": {
        "colab": {
          "base_uri": "https://localhost:8080/"
        },
        "id": "jxb285TlDgXb",
        "outputId": "81c552ff-9821-4eb2-f432-d30ed1fa3fc7"
      },
      "source": [
        "# 출력할 변수들\n",
        "a=1\n",
        "b=2\n",
        "\n",
        "print(a)\n",
        "print(b)"
      ],
      "execution_count": 72,
      "outputs": [
        {
          "output_type": "stream",
          "name": "stdout",
          "text": [
            "1\n",
            "2\n"
          ]
        }
      ]
    },
    {
      "cell_type": "code",
      "metadata": {
        "colab": {
          "base_uri": "https://localhost:8080/",
          "height": 204
        },
        "id": "x4WtJaHMDmi_",
        "outputId": "1b7b1d59-49f2-46f7-c064-e763a1994dfa"
      },
      "source": [
        "# 출력할 변수들\n",
        "answer=7\n",
        "\n",
        "print(\"정답은\"+answer+\"입니다.\")"
      ],
      "execution_count": 73,
      "outputs": [
        {
          "output_type": "error",
          "ename": "TypeError",
          "evalue": "ignored",
          "traceback": [
            "\u001b[0;31m---------------------------------------------------------------------------\u001b[0m",
            "\u001b[0;31mTypeError\u001b[0m                                 Traceback (most recent call last)",
            "\u001b[0;32m<ipython-input-73-6a17842557fd>\u001b[0m in \u001b[0;36m<module>\u001b[0;34m()\u001b[0m\n\u001b[1;32m      2\u001b[0m \u001b[0manswer\u001b[0m\u001b[0;34m=\u001b[0m\u001b[0;36m7\u001b[0m\u001b[0;34m\u001b[0m\u001b[0;34m\u001b[0m\u001b[0m\n\u001b[1;32m      3\u001b[0m \u001b[0;34m\u001b[0m\u001b[0m\n\u001b[0;32m----> 4\u001b[0;31m \u001b[0mprint\u001b[0m\u001b[0;34m(\u001b[0m\u001b[0;34m\"정답은\"\u001b[0m\u001b[0;34m+\u001b[0m\u001b[0manswer\u001b[0m\u001b[0;34m+\u001b[0m\u001b[0;34m\"입니다.\"\u001b[0m\u001b[0;34m)\u001b[0m\u001b[0;34m\u001b[0m\u001b[0;34m\u001b[0m\u001b[0m\n\u001b[0m",
            "\u001b[0;31mTypeError\u001b[0m: can only concatenate str (not \"int\") to str"
          ]
        }
      ]
    },
    {
      "cell_type": "code",
      "metadata": {
        "colab": {
          "base_uri": "https://localhost:8080/"
        },
        "id": "K5tt5fv1DxR4",
        "outputId": "83825658-266f-42f4-dd05-15fdd54a4025"
      },
      "source": [
        "# 출력할 변수들\n",
        "answer=7\n",
        "\n",
        "print(\"정답은 \"+str(answer)+\"입니다.\")"
      ],
      "execution_count": 75,
      "outputs": [
        {
          "output_type": "stream",
          "name": "stdout",
          "text": [
            "정답은 7입니다.\n"
          ]
        }
      ]
    },
    {
      "cell_type": "code",
      "metadata": {
        "colab": {
          "base_uri": "https://localhost:8080/"
        },
        "id": "YpIoxyjlD6E0",
        "outputId": "afe35e76-ac01-4990-9d18-a769458b3a87"
      },
      "source": [
        "# 출력할 변수들\n",
        "answer=7\n",
        "\n",
        "print(\"정답은\", str(answer), \"입니다.\")"
      ],
      "execution_count": 76,
      "outputs": [
        {
          "output_type": "stream",
          "name": "stdout",
          "text": [
            "정답은 7 입니다.\n"
          ]
        }
      ]
    },
    {
      "cell_type": "code",
      "metadata": {
        "colab": {
          "base_uri": "https://localhost:8080/"
        },
        "id": "sJTRpJoGEjQL",
        "outputId": "d8177eca-78a6-4438-f655-632a29e5181e"
      },
      "source": [
        "answer=7\n",
        "print(f\"정답은 {answer}입니다.\")"
      ],
      "execution_count": 77,
      "outputs": [
        {
          "output_type": "stream",
          "name": "stdout",
          "text": [
            "정답은 7입니다.\n"
          ]
        }
      ]
    },
    {
      "cell_type": "code",
      "metadata": {
        "colab": {
          "base_uri": "https://localhost:8080/"
        },
        "id": "4Lz37LCoFOMC",
        "outputId": "08acea62-352d-4f8d-ea36-5d75613e790a"
      },
      "source": [
        "result=sum([1,2,3,4,5])\n",
        "print(result)"
      ],
      "execution_count": 78,
      "outputs": [
        {
          "output_type": "stream",
          "name": "stdout",
          "text": [
            "15\n"
          ]
        }
      ]
    },
    {
      "cell_type": "code",
      "metadata": {
        "colab": {
          "base_uri": "https://localhost:8080/"
        },
        "id": "1ASJPE2PFVhC",
        "outputId": "61b1f503-acb0-453e-bf7a-a773c30b2081"
      },
      "source": [
        "result=min(7,3,5,2)\n",
        "print(result)"
      ],
      "execution_count": 79,
      "outputs": [
        {
          "output_type": "stream",
          "name": "stdout",
          "text": [
            "2\n"
          ]
        }
      ]
    },
    {
      "cell_type": "code",
      "metadata": {
        "colab": {
          "base_uri": "https://localhost:8080/"
        },
        "id": "tt29mSwSFdOe",
        "outputId": "be000e2f-8dcc-4904-b531-2787f6f9898c"
      },
      "source": [
        "result=max(7,3,5,2)\n",
        "print(result)"
      ],
      "execution_count": 80,
      "outputs": [
        {
          "output_type": "stream",
          "name": "stdout",
          "text": [
            "7\n"
          ]
        }
      ]
    },
    {
      "cell_type": "code",
      "metadata": {
        "colab": {
          "base_uri": "https://localhost:8080/"
        },
        "id": "wEGJe4UBFiw2",
        "outputId": "b284e7dd-caab-4362-8a4b-49577415e12e"
      },
      "source": [
        "result=eval(\"(3+5)*7\")\n",
        "print(result)"
      ],
      "execution_count": 81,
      "outputs": [
        {
          "output_type": "stream",
          "name": "stdout",
          "text": [
            "56\n"
          ]
        }
      ]
    },
    {
      "cell_type": "code",
      "metadata": {
        "colab": {
          "base_uri": "https://localhost:8080/"
        },
        "id": "plg7gj8xFsoD",
        "outputId": "6335e80c-9ef4-40ae-dab5-67590007a93f"
      },
      "source": [
        "result=sorted([9,1,8,5,4]) # 오름차순으로 정렬\n",
        "print(result)\n",
        "result=sorted([9,1,8,5,4], reverse=True) # 내림차순으로 정렬\n",
        "print(result)"
      ],
      "execution_count": 82,
      "outputs": [
        {
          "output_type": "stream",
          "name": "stdout",
          "text": [
            "[1, 4, 5, 8, 9]\n",
            "[9, 8, 5, 4, 1]\n"
          ]
        }
      ]
    },
    {
      "cell_type": "code",
      "metadata": {
        "colab": {
          "base_uri": "https://localhost:8080/"
        },
        "id": "WMHe7xoTGDZI",
        "outputId": "e7cacae0-79d3-47a0-db3b-0b0c1f30b95f"
      },
      "source": [
        "result=sorted([('홍길동', 35),('이순신',75),('아무개',50)], key=lambda x:x[1], reverse=True)\n",
        "print(result)"
      ],
      "execution_count": 83,
      "outputs": [
        {
          "output_type": "stream",
          "name": "stdout",
          "text": [
            "[('이순신', 75), ('아무개', 50), ('홍길동', 35)]\n"
          ]
        }
      ]
    },
    {
      "cell_type": "code",
      "metadata": {
        "colab": {
          "base_uri": "https://localhost:8080/"
        },
        "id": "gx1Pd92oGcJy",
        "outputId": "f6a90f1f-5e36-4a80-bc9d-4235dff48b53"
      },
      "source": [
        "data=[9,1,8,5,4]\n",
        "data.sort()\n",
        "print(data)"
      ],
      "execution_count": 84,
      "outputs": [
        {
          "output_type": "stream",
          "name": "stdout",
          "text": [
            "[1, 4, 5, 8, 9]\n"
          ]
        }
      ]
    },
    {
      "cell_type": "code",
      "metadata": {
        "colab": {
          "base_uri": "https://localhost:8080/"
        },
        "id": "pSnt9acnGtxC",
        "outputId": "1fd37dab-f6ab-43c6-c851-ff129959f89e"
      },
      "source": [
        "from itertools import permutations\n",
        "\n",
        "data=['A','B','C'] # 데이터 준비\n",
        "result=list(permutations(data,3)) # 모든 순열 구하기\n",
        "\n",
        "print(result)"
      ],
      "execution_count": 85,
      "outputs": [
        {
          "output_type": "stream",
          "name": "stdout",
          "text": [
            "[('A', 'B', 'C'), ('A', 'C', 'B'), ('B', 'A', 'C'), ('B', 'C', 'A'), ('C', 'A', 'B'), ('C', 'B', 'A')]\n"
          ]
        }
      ]
    },
    {
      "cell_type": "code",
      "metadata": {
        "colab": {
          "base_uri": "https://localhost:8080/"
        },
        "id": "9ljNxpkAHD0R",
        "outputId": "a84bfbba-3dbb-46e3-f470-baece11282c4"
      },
      "source": [
        "from itertools import combinations\n",
        "\n",
        "data=['A','B','C'] # 데이터 준비\n",
        "result=list(combinations(data,2)) # 2개를 뽑는 모든 조합 구하기\n",
        "\n",
        "print(result)"
      ],
      "execution_count": 86,
      "outputs": [
        {
          "output_type": "stream",
          "name": "stdout",
          "text": [
            "[('A', 'B'), ('A', 'C'), ('B', 'C')]\n"
          ]
        }
      ]
    },
    {
      "cell_type": "code",
      "metadata": {
        "colab": {
          "base_uri": "https://localhost:8080/"
        },
        "id": "tr3GWLQ5HWZf",
        "outputId": "f7e0ddc8-273c-4250-cbae-eebed349b896"
      },
      "source": [
        "from itertools import product\n",
        "\n",
        "data=['A','B','C'] # 데이터 준비\n",
        "result=list(product(data, repeat=2)) # 2개를 뽑는 모든 순열 구하기(중복 허용)\n",
        "\n",
        "print(result)"
      ],
      "execution_count": 87,
      "outputs": [
        {
          "output_type": "stream",
          "name": "stdout",
          "text": [
            "[('A', 'A'), ('A', 'B'), ('A', 'C'), ('B', 'A'), ('B', 'B'), ('B', 'C'), ('C', 'A'), ('C', 'B'), ('C', 'C')]\n"
          ]
        }
      ]
    },
    {
      "cell_type": "code",
      "metadata": {
        "colab": {
          "base_uri": "https://localhost:8080/"
        },
        "id": "6IMBP_hFHq4p",
        "outputId": "8947dfe4-1c99-4247-aa23-f7058b55a9ef"
      },
      "source": [
        "from itertools import combinations_with_replacement\n",
        "\n",
        "data=['A','B','C'] # 데이터 준비\n",
        "result=list(combinations_with_replacement(data,2)) # 2개를 뽑는 모든 조합 구하기(중복 허용)\n",
        "print(result)"
      ],
      "execution_count": 88,
      "outputs": [
        {
          "output_type": "stream",
          "name": "stdout",
          "text": [
            "[('A', 'A'), ('A', 'B'), ('A', 'C'), ('B', 'B'), ('B', 'C'), ('C', 'C')]\n"
          ]
        }
      ]
    },
    {
      "cell_type": "code",
      "metadata": {
        "colab": {
          "base_uri": "https://localhost:8080/"
        },
        "id": "UZXM5v_EIKad",
        "outputId": "a422d568-f65b-4f07-c07f-2afa62e64d74"
      },
      "source": [
        "import heapq\n",
        "\n",
        "def heapsort(iterable):\n",
        "  h=[]\n",
        "  result=[]\n",
        "  # 모든 원소를 차례대로 힙에 삽입\n",
        "  for value in iterable:\n",
        "    heapq.heappush(h, value)\n",
        "  # 힙에 삽입된 모든 원소를 차례대로 꺼내어 담기\n",
        "  for i in range(len(h)):\n",
        "    result.append(heapq.heappop(h))\n",
        "  return result\n",
        "\n",
        "result=heapsort([1,3,5,7,9,2,4,6,8,0])\n",
        "print(result)"
      ],
      "execution_count": 89,
      "outputs": [
        {
          "output_type": "stream",
          "name": "stdout",
          "text": [
            "[0, 1, 2, 3, 4, 5, 6, 7, 8, 9]\n"
          ]
        }
      ]
    },
    {
      "cell_type": "code",
      "metadata": {
        "colab": {
          "base_uri": "https://localhost:8080/"
        },
        "id": "otMH69r_I0MJ",
        "outputId": "a4344b38-1cbd-4ca1-e60c-3d812a289955"
      },
      "source": [
        "import heapq\n",
        "\n",
        "def heapsort(iterable):\n",
        "  h=[]\n",
        "  result=[]\n",
        "  # 모든 원소를 차례대로 힙에 삽입\n",
        "  for value in iterable:\n",
        "    heapq.heappush(h, -value)\n",
        "  # 힙에 삽입된 모든 원소를 차례대로 꺼내어 담기\n",
        "  for i in range(len(h)):\n",
        "    result.append(-heapq.heappop(h))\n",
        "  return result\n",
        "\n",
        "result=heapsort([1,3,5,7,9,2,4,6,8,0])\n",
        "print(result)"
      ],
      "execution_count": 93,
      "outputs": [
        {
          "output_type": "stream",
          "name": "stdout",
          "text": [
            "[9, 8, 7, 6, 5, 4, 3, 2, 1, 0]\n"
          ]
        }
      ]
    },
    {
      "cell_type": "code",
      "metadata": {
        "colab": {
          "base_uri": "https://localhost:8080/"
        },
        "id": "NtOh7wYVJovI",
        "outputId": "10cf0d5e-a1b2-4b93-9087-8a336c739e91"
      },
      "source": [
        "from bisect import bisect_left, bisect_right\n",
        "\n",
        "a=[1,2,4,4,8]\n",
        "x=4\n",
        "\n",
        "print(bisect_left(a,x))\n",
        "print(bisect_right(a,x))"
      ],
      "execution_count": 94,
      "outputs": [
        {
          "output_type": "stream",
          "name": "stdout",
          "text": [
            "2\n",
            "4\n"
          ]
        }
      ]
    },
    {
      "cell_type": "code",
      "metadata": {
        "colab": {
          "base_uri": "https://localhost:8080/"
        },
        "id": "iUh8KlfkJ_eM",
        "outputId": "4c0f11b6-36a4-4b89-bb36-fad8271de0d2"
      },
      "source": [
        "from bisect import bisect_left, bisect_right\n",
        "\n",
        "# 값이 [left_value, right_value]인 데이터의 개수를 반환하는 함수\n",
        "def count_by_range(a,left_value, right_value):\n",
        "  right_index=bisect_right(a, right_value)\n",
        "  left_index=bisect_left(a, left_value)\n",
        "  return right_index - left_index\n",
        "\n",
        "# 리스트 선언\n",
        "a=[1,2,3,3,3,3,4,4,8,9]\n",
        "\n",
        "# 값이 4인 데이터 개수 출력\n",
        "print(count_by_range(a,4,4))\n",
        "\n",
        "# 값이 [-1,3] 범위에 있는 데이터 개수 출력\n",
        "print(count_by_range(a,-1,3))"
      ],
      "execution_count": 95,
      "outputs": [
        {
          "output_type": "stream",
          "name": "stdout",
          "text": [
            "2\n",
            "6\n"
          ]
        }
      ]
    },
    {
      "cell_type": "code",
      "metadata": {
        "colab": {
          "base_uri": "https://localhost:8080/"
        },
        "id": "CT8Xn6AhSk7C",
        "outputId": "996bcc73-001d-4923-d63c-931df830d694"
      },
      "source": [
        "from collections import deque\n",
        "\n",
        "data=deque([2,3,4])\n",
        "data.appendleft(1)\n",
        "data.append(5)\n",
        "\n",
        "print(data)\n",
        "print(list(data)) # 리스트 자료형으로 변환"
      ],
      "execution_count": 96,
      "outputs": [
        {
          "output_type": "stream",
          "name": "stdout",
          "text": [
            "deque([1, 2, 3, 4, 5])\n",
            "[1, 2, 3, 4, 5]\n"
          ]
        }
      ]
    },
    {
      "cell_type": "code",
      "metadata": {
        "colab": {
          "base_uri": "https://localhost:8080/"
        },
        "id": "GQlRUNOUTchq",
        "outputId": "17e6d8f4-9d65-4307-8ea8-c4430665cb7b"
      },
      "source": [
        "from collections import Counter\n",
        "\n",
        "counter = Counter(['red','blue','red','green','blue','blue'])\n",
        "\n",
        "print(counter['blue']) # 'blue'가 등장한 횟수 출력\n",
        "print(counter['green']) # 'green'이 등장한 횟수 출력\n",
        "print(dict(counter)) # 사전 자료형으로 반환"
      ],
      "execution_count": 97,
      "outputs": [
        {
          "output_type": "stream",
          "name": "stdout",
          "text": [
            "3\n",
            "1\n",
            "{'red': 2, 'blue': 3, 'green': 1}\n"
          ]
        }
      ]
    },
    {
      "cell_type": "code",
      "metadata": {
        "colab": {
          "base_uri": "https://localhost:8080/"
        },
        "id": "Drrs-K41UG_Q",
        "outputId": "c36ebc59-0d3c-4944-940c-9ed444a35599"
      },
      "source": [
        "import math\n",
        "\n",
        "print(math.factorial(5)) # 5 팩토리얼을 출력"
      ],
      "execution_count": 98,
      "outputs": [
        {
          "output_type": "stream",
          "name": "stdout",
          "text": [
            "120\n"
          ]
        }
      ]
    },
    {
      "cell_type": "code",
      "metadata": {
        "colab": {
          "base_uri": "https://localhost:8080/"
        },
        "id": "XD4nkEmYULhE",
        "outputId": "9f38757a-96cd-4bb0-e746-dcf453247dc6"
      },
      "source": [
        "import math\n",
        "\n",
        "print(math.sqrt(7)) # 7의 제곱근을 출력"
      ],
      "execution_count": 99,
      "outputs": [
        {
          "output_type": "stream",
          "name": "stdout",
          "text": [
            "2.6457513110645907\n"
          ]
        }
      ]
    },
    {
      "cell_type": "code",
      "metadata": {
        "colab": {
          "base_uri": "https://localhost:8080/"
        },
        "id": "1bscYrTlUS6V",
        "outputId": "178cc585-3a78-4640-8468-41fe3e8faf55"
      },
      "source": [
        "import math\n",
        "\n",
        "print(math.gcd(21, 14)) "
      ],
      "execution_count": 100,
      "outputs": [
        {
          "output_type": "stream",
          "name": "stdout",
          "text": [
            "7\n"
          ]
        }
      ]
    },
    {
      "cell_type": "code",
      "metadata": {
        "colab": {
          "base_uri": "https://localhost:8080/"
        },
        "id": "_ElSIi3rUYmB",
        "outputId": "adfed480-e992-46d1-dc90-4f3e4c23faaf"
      },
      "source": [
        "import math\n",
        "\n",
        "print(math.pi) # 파이(pi) 출력\n",
        "print(math.e) # 자연상수 e 출력"
      ],
      "execution_count": 101,
      "outputs": [
        {
          "output_type": "stream",
          "name": "stdout",
          "text": [
            "3.141592653589793\n",
            "2.718281828459045\n"
          ]
        }
      ]
    },
    {
      "cell_type": "code",
      "metadata": {
        "colab": {
          "base_uri": "https://localhost:8080/"
        },
        "id": "6I1X28knP4AW",
        "outputId": "9a921cfc-6689-4f0b-cc81-b7f72c4fa810"
      },
      "source": [
        "array=[3,5,1,2,4] # 5개의 데이터(N=5)\n",
        "summary=0 # 합계를 저장할 변수\n",
        "\n",
        "# 모든 데이터를 하나씩 확인하며 합계를 계산\n",
        "for x in array:\n",
        "  summary+=x\n",
        "\n",
        "# 결과를 출력\n",
        "print(summary)"
      ],
      "execution_count": 1,
      "outputs": [
        {
          "output_type": "stream",
          "name": "stdout",
          "text": [
            "15\n"
          ]
        }
      ]
    },
    {
      "cell_type": "code",
      "metadata": {
        "colab": {
          "base_uri": "https://localhost:8080/"
        },
        "id": "FWoul-ptR6pa",
        "outputId": "0ca09686-25eb-4fc8-ba3f-61cac5007853"
      },
      "source": [
        "import time\n",
        "start_time=time.time() # 측정 시작\n",
        "\n",
        "# 프로그램 소스코드\n",
        "end_time=time.time() # 측정 종료\n",
        "print(\"time :\", end_time-start_time) # 수행 시간 출력"
      ],
      "execution_count": 2,
      "outputs": [
        {
          "output_type": "stream",
          "name": "stdout",
          "text": [
            "time : 2.7418136596679688e-05\n"
          ]
        }
      ]
    },
    {
      "cell_type": "code",
      "metadata": {
        "colab": {
          "base_uri": "https://localhost:8080/"
        },
        "id": "BhBm4prySQEv",
        "outputId": "9d123a0b-52c4-4dd2-8927-5c9f1c63e871"
      },
      "source": [
        "from random import randint\n",
        "import time\n",
        "\n",
        "# 배열에 10,000개의 정수 삽입\n",
        "array=[]\n",
        "for _ in range(10000):\n",
        "  array.append(randint(1,100)) # 1부터 100 사이의 랜덤한 정수\n",
        "\n",
        "# 선택 정렬 프로그램 성능 측정\n",
        "start_time=time.time()\n",
        "\n",
        "# 선택 정렬 프로그램 소스 코드\n",
        "for i in range(len(array)):\n",
        "  min_index=i # 가장 작은 원소의 인덱스\n",
        "  for j in range(i+1, len(array)):\n",
        "    if array[min_index]>array[j]:\n",
        "      min_index=j\n",
        "  array[i], array[min_index]=array[min_index],array[i] # 스와프\n",
        "\n",
        "end_time=time.time() # 측정 종료\n",
        "print(\"선택 정렬 성능 측정:\", end_time-start_time) # 수행 시간 출력\n",
        "\n",
        "# 기본 정렬 라이브러리 성능 측정\n",
        "start_time=time.time()\n",
        "\n",
        "# 기본 정렬 라이브러리 사용\n",
        "array.sort()\n",
        "\n",
        "end_time=time.time() # 측정 종료\n",
        "print(\"기본 정렬 라이브러리 성능 측정:\", end_time-start_time) # 수행 시간 출력"
      ],
      "execution_count": 3,
      "outputs": [
        {
          "output_type": "stream",
          "name": "stdout",
          "text": [
            "선택 정렬 성능 측정: 7.957292795181274\n",
            "기본 정렬 라이브러리 성능 측정: 9.751319885253906e-05\n"
          ]
        }
      ]
    }
  ]
}